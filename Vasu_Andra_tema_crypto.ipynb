{
 "cells": [
  {
   "cell_type": "code",
   "execution_count": 1,
   "metadata": {},
   "outputs": [
    {
     "name": "stdout",
     "output_type": "stream",
     "text": [
      "nonce:  3000000000\n",
      "valoare hash:  b'70ba305ff525556330ab7f3fc3f342f2e82acd8d896e52dee84c0fec07fd8881'\n",
      "nonce:  3000000001\n",
      "valoare hash:  b'e16392883f05773debd5be4f8e9b99d3445c3539b031cd857ac0dc48de85c3f4'\n",
      "nonce:  3000000002\n",
      "valoare hash:  b'e7becb7c0bc3b14370dc33f289822e61b706febaae6f0ba7b9c96f4c0e31ffed'\n",
      "nonce:  3000000003\n",
      "valoare hash:  b'741fe37c2260738ceaeab90429b8adce1f1c1887a2a43855a79353cf35725e05'\n",
      "nonce:  3000000004\n",
      "valoare hash:  b'be3336f846a487f00de37b1c7565e6dcf600b25fbb54025cc7776337b5d6ebc1'\n",
      "succes\n",
      "nonce:  3060331852\n",
      "valoare hash:  b'0000000000000000000d7612d743325d8e47cb9e506d547694478f35f736188e'\n"
     ]
    }
   ],
   "source": [
    "#cazul 1\n",
    "import hashlib, struct, codecs\n",
    "\n",
    "ver = 0x20400000\n",
    "prev_block = \"00000000000000000006a4a234288a44e715275f1775b77b2fddb6c02eb6b72f\"\n",
    "mrkl_root = \"2dc60c563da5368e0668b81bc4d8dd369639a1134f68e425a9a74e428801e5b8\"\n",
    "time_ = 0x5DB8AB5E\n",
    "bits = 0x17148EDF\n",
    "\n",
    "# https://en.bitcoin.it/wiki/Difficulty\n",
    "exp = bits >> 24\n",
    "mant = bits & 0xffffff\n",
    "target_hexstr = '%064x' % (mant * (1<<(8*(exp - 3))))\n",
    "target_str = codecs.decode(target_hexstr, 'hex')\n",
    "\n",
    "nonce = 3000000000\n",
    "while nonce < 3100000000:\n",
    "    header = (struct.pack(\"<L\", ver) + codecs.decode(prev_block, 'hex')[::-1] +\n",
    "              codecs.decode(mrkl_root, 'hex')[::-1] + struct.pack(\"<LLL\", time_, bits, nonce))\n",
    "    hash = hashlib.sha256(hashlib.sha256(header).digest()).digest()\n",
    "    if hash[::-1] < target_str:\n",
    "        print('succes')\n",
    "        print('nonce: ', nonce)\n",
    "        print('valoare hash: ', codecs.encode(hash[::-1], 'hex'))\n",
    "        break\n",
    "    if nonce < 3000000005:\n",
    "        print('nonce: ', nonce)\n",
    "        print('valoare hash: ', codecs.encode(hash[::-1], 'hex'))\n",
    "    nonce += 1"
   ]
  },
  {
   "cell_type": "code",
   "execution_count": 2,
   "metadata": {},
   "outputs": [
    {
     "name": "stdout",
     "output_type": "stream",
     "text": [
      "nonce2 3102649817\n",
      "nr de testari 100000001\n"
     ]
    }
   ],
   "source": [
    "#cazul 2\n",
    "import hashlib, struct, codecs, random\n",
    " \n",
    "ver = 0x20400000\n",
    "prev_block = \"00000000000000000006a4a234288a44e715275f1775b77b2fddb6c02eb6b72f\"\n",
    "mrkl_root = \"2dc60c563da5368e0668b81bc4d8dd369639a1134f68e425a9a74e428801e5b8\"\n",
    "time_ = 0x5DB8AB5E\n",
    "bits = 0x17148EDF\n",
    " \n",
    "# https://en.bitcoin.it/wiki/Difficulty\n",
    "exp = bits >> 24\n",
    "mant = bits & 0xffffff\n",
    "target_hexstr = '%064x' % (mant * (1<<(8*(exp - 3))))\n",
    "target_str = codecs.decode(target_hexstr, \"hex\")\n",
    " \n",
    "nonce = random.randrange(3060331853,3060331853+100000000)\n",
    "initialNonce = nonce\n",
    "print ('nonce2',nonce)\n",
    "nr_testari=0;\n",
    "while nonce <= initialNonce + 100000000:\n",
    "    nr_testari=nr_testari+1\n",
    "    header = ( struct.pack(\"<L\", ver) + codecs.decode(prev_block, \"hex\")[::-1] +\n",
    "          codecs.decode(mrkl_root, \"hex\")[::-1] + struct.pack(\"<LLL\", time_, bits, nonce))\n",
    "    hash = hashlib.sha256(hashlib.sha256(header).digest()).digest()\n",
    "    if hash[::-1] < target_str:\n",
    "        print('succes')\n",
    "        print( nonce, codecs.encode(hash[::-1], \"hex\"))\n",
    "        break\n",
    "    nonce += 1\n",
    "print ('nr de testari', nr_testari)"
   ]
  },
  {
   "cell_type": "code",
   "execution_count": null,
   "metadata": {},
   "outputs": [],
   "source": []
  }
 ],
 "metadata": {
  "kernelspec": {
   "display_name": "Python 3",
   "language": "python",
   "name": "python3"
  },
  "language_info": {
   "codemirror_mode": {
    "name": "ipython",
    "version": 3
   },
   "file_extension": ".py",
   "mimetype": "text/x-python",
   "name": "python",
   "nbconvert_exporter": "python",
   "pygments_lexer": "ipython3",
   "version": "3.7.3"
  }
 },
 "nbformat": 4,
 "nbformat_minor": 2
}
